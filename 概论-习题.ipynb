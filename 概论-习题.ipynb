{
 "cells": [
  {
   "cell_type": "markdown",
   "id": "573e53c4",
   "metadata": {
    "slideshow": {
     "slide_type": "slide"
    }
   },
   "source": [
    "# 1.3的分析\n",
    "\n",
    "* $i=0$时，内循环次数为$N^2$\n",
    "* $i=1$时，内循环次数为$N^2-1$\n",
    "* $\\dotsc$\n",
    "* $i=N-1$时，内循环次数为$N^2-(N-1)$\n",
    "\n",
    "逆向重写一遍，并相加，结果为：$O(N^2)O(N)=O(N^3)$"
   ]
  },
  {
   "cell_type": "markdown",
   "id": "b68a76ac",
   "metadata": {
    "slideshow": {
     "slide_type": "slide"
    }
   },
   "source": [
    "# 1.11的分析\n",
    "\n",
    "* $N$为偶数，$x^N=x^{N/2}\\cdot x^{N/2}$\n",
    "* $N$为奇数，$x^N=x^{N/2}\\cdot x^{N/2}\\cdot x$\n",
    "* 方法1：递归求解"
   ]
  },
  {
   "cell_type": "markdown",
   "id": "893594fc",
   "metadata": {
    "slideshow": {
     "slide_type": "slide"
    }
   },
   "source": [
    "# 1.11的分析，方法2\n",
    "\n",
    "* $N$的二进制表示为$\\langle b_k,b_{k-1},\\dotsc,b_1,b_0\\rangle$，各个digit要么0，要么1\n",
    "* $x^N$也就是$x^{b_k2^k}\\cdot x^{b_{k-1}2^{k-1}}\\cdot \\dotsb \\cdot x^{b_02^{0}}$"
   ]
  }
 ],
 "metadata": {
  "celltoolbar": "Slideshow",
  "kernelspec": {
   "display_name": "Python 3",
   "language": "python",
   "name": "python3"
  },
  "language_info": {
   "codemirror_mode": {
    "name": "ipython",
    "version": 3
   },
   "file_extension": ".py",
   "mimetype": "text/x-python",
   "name": "python",
   "nbconvert_exporter": "python",
   "pygments_lexer": "ipython3",
   "version": "3.8.8"
  }
 },
 "nbformat": 4,
 "nbformat_minor": 5
}
