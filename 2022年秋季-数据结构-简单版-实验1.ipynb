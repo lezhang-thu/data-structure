{
 "cells": [
  {
   "cell_type": "markdown",
   "id": "98232270",
   "metadata": {},
   "source": [
    "# 2022年秋季-数据结构-简单版-实验1\n",
    "\n",
    "给定两个**有序（升序）**链表A、B，请将其进行合并为一个**有序（降序）**链表\n",
    "\n",
    "如：\n",
    "\n",
    "A为：1>>2>>4，B为：1>>3>>4\n",
    "\n",
    "则合并后为：4>>4>>3>>2>>1>>1\n",
    "\n",
    "要求依次完成如下步骤：\n",
    "\n",
    "1. 编写函数，完成输入各个元素的过程，并实现创建链表（要求尾插法）\n",
    "1. 给定链表的头，输出链表中的各个元素\n",
    "1. 合并两个有序链表\n",
    "\n",
    "链表结构体定义如下：\n",
    "\n",
    "```c\n",
    "/**\n",
    " * Definition for singly-linked list.\n",
    " * struct ListNode {\n",
    " *     int val;\n",
    " *     struct ListNode *next;\n",
    " * };\n",
    " */\n",
    "```\n",
    "\n",
    "要求：\n",
    "\n",
    "1. 不申请额外的数组，不采取将元素先在数组中合并后，再存储到链表中的做法\n",
    "1. 不重复创建链表，仅在基于输入元素而创建的链表上进行操作，不过多申请额外的链表结点"
   ]
  }
 ],
 "metadata": {
  "kernelspec": {
   "display_name": "Python 3",
   "language": "python",
   "name": "python3"
  },
  "language_info": {
   "codemirror_mode": {
    "name": "ipython",
    "version": 3
   },
   "file_extension": ".py",
   "mimetype": "text/x-python",
   "name": "python",
   "nbconvert_exporter": "python",
   "pygments_lexer": "ipython3",
   "version": "3.8.8"
  }
 },
 "nbformat": 4,
 "nbformat_minor": 5
}
