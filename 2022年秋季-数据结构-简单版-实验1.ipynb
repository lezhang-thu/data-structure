{
 "cells": [
  {
   "cell_type": "markdown",
   "id": "62ec4bb8",
   "metadata": {},
   "source": [
    "# 2022年秋季-数据结构-简单版-实验1\n",
    "\n",
    "给定两个**有序（升序）**链表A、B，请将其进行**合并**为一个有序（降序）链表\n",
    "\n",
    "如：\n",
    "\n",
    "A为：1>>2>>4，B为：1>>3>>4\n",
    "则合并后为：4>>4>>3>>2>>1>>1\n",
    "\n",
    "要求依次完成如下步骤：\n",
    "\n",
    "1. 编写函数，完成输入各个元素的过程，并实现创建链表（要求尾插法）\n",
    "1. 给定链表的头，输出链表中的各个元素\n",
    "1. 合并两个有序链表\n",
    "\n",
    "链表结构体定义如下：\n",
    "\n",
    "```\n",
    "/**\n",
    " * Definition for singly-linked list.\n",
    " * struct ListNode {\n",
    " *     int val;\n",
    " *     struct ListNode *next;\n",
    " * };\n",
    " */\n",
    "```"
   ]
  }
 ],
 "metadata": {
  "kernelspec": {
   "display_name": "Python 3",
   "language": "python",
   "name": "python3"
  },
  "language_info": {
   "codemirror_mode": {
    "name": "ipython",
    "version": 3
   },
   "file_extension": ".py",
   "mimetype": "text/x-python",
   "name": "python",
   "nbconvert_exporter": "python",
   "pygments_lexer": "ipython3",
   "version": "3.8.8"
  }
 },
 "nbformat": 4,
 "nbformat_minor": 5
}
